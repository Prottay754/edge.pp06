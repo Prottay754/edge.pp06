{
  "nbformat": 4,
  "nbformat_minor": 0,
  "metadata": {
    "colab": {
      "provenance": []
    },
    "kernelspec": {
      "name": "python3",
      "display_name": "Python 3"
    },
    "language_info": {
      "name": "python"
    }
  },
  "cells": [
    {
      "cell_type": "code",
      "execution_count": null,
      "metadata": {
        "colab": {
          "base_uri": "https://localhost:8080/"
        },
        "id": "HwP4XnUiJPkw",
        "outputId": "7e403375-acfb-4047-a102-dda2741bdd4f"
      },
      "outputs": [
        {
          "output_type": "stream",
          "name": "stdout",
          "text": [
            "great\n"
          ]
        }
      ],
      "source": [
        "try :\n",
        "  a=10/0\n",
        "except ZeroDivisionError:\n",
        "  print(\"great\")"
      ]
    },
    {
      "cell_type": "code",
      "source": [
        "a=10\n",
        "print(a)\n",
        "if a== 10:\n",
        "  print(\"yes\")\n",
        "else:\n",
        "  print(\"oh no\")"
      ],
      "metadata": {
        "colab": {
          "base_uri": "https://localhost:8080/"
        },
        "id": "FgbOCLVzPGt7",
        "outputId": "bc468b31-bf5e-4ac0-d76f-dbaeb6049936"
      },
      "execution_count": null,
      "outputs": [
        {
          "output_type": "stream",
          "name": "stdout",
          "text": [
            "10\n",
            "yes\n"
          ]
        }
      ]
    },
    {
      "cell_type": "code",
      "source": [],
      "metadata": {
        "id": "9uM2ajK1QLKZ"
      },
      "execution_count": null,
      "outputs": []
    }
  ]
}